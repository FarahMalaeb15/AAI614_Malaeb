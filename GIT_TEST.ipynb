{
  "nbformat": 4,
  "nbformat_minor": 0,
  "metadata": {
    "colab": {
      "provenance": []
    },
    "kernelspec": {
      "name": "python3",
      "display_name": "Python 3"
    },
    "language_info": {
      "name": "python"
    }
  },
  "cells": [
    {
      "cell_type": "code",
      "execution_count": 1,
      "metadata": {
        "colab": {
          "base_uri": "https://localhost:8080/"
        },
        "id": "lF8rMneUvL3N",
        "outputId": "18d0852f-1321-4418-e2bc-9871b79ddf6c"
      },
      "outputs": [
        {
          "output_type": "stream",
          "name": "stdout",
          "text": [
            "A TEST FILE TO UPLOAD ON GITHUB\n"
          ]
        }
      ],
      "source": [
        "print('A TEST FILE TO UPLOAD ON GITHUB')"
      ]
    }
  ]
}